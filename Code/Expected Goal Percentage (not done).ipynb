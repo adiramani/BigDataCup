{
 "cells": [
  {
   "cell_type": "code",
   "execution_count": null,
   "metadata": {},
   "outputs": [],
   "source": [
    "import pandas as pd\n",
    "import numpy as np\n",
    "import matplotlib.pyplot as plt\n",
    "import pickle\n",
    "import seaborn as sns\n",
    "from matplotlib import animation\n",
    "from IPython.display import HTML\n",
    "import random\n",
    "import swifter\n",
    "from sklearn.preprocessing import LabelEncoder\n",
    "import math\n",
    "import random\n",
    "from statsmodels.nonparametric.smoothers_lowess import lowess\n",
    "from sklearn.ensemble import GradientBoostingClassifier\n",
    "from sklearn.metrics import auc\n",
    "%matplotlib inline"
   ]
  },
  {
   "cell_type": "code",
   "execution_count": null,
   "metadata": {},
   "outputs": [],
   "source": [
    "pd.set_option('display.max_colwidth', None)\n",
    "pd.set_option('display.max_columns', None)"
   ]
  },
  {
   "cell_type": "code",
   "execution_count": null,
   "metadata": {},
   "outputs": [],
   "source": [
    "hackathon_womens = pd.read_csv(\"https://raw.githubusercontent.com/bigdatacup/Big-Data-Cup-2021/main/hackathon_womens.csv\")\n",
    "hackathon_scouting = pd.read_csv(\"https://raw.githubusercontent.com/bigdatacup/Big-Data-Cup-2021/main/hackathon_scouting.csv\")\n",
    "hackathon_nwhl = pd.read_csv(\"https://raw.githubusercontent.com/bigdatacup/Big-Data-Cup-2021/main/hackathon_nwhl.csv\")"
   ]
  },
  {
   "cell_type": "code",
   "execution_count": null,
   "metadata": {},
   "outputs": [],
   "source": [
    "start_data = hackathon_scouting.copy()\n",
    "start_data.shape"
   ]
  },
  {
   "cell_type": "code",
   "execution_count": null,
   "metadata": {},
   "outputs": [],
   "source": [
    "data = start_data.copy()\n",
    "data.head()"
   ]
  },
  {
   "cell_type": "code",
   "execution_count": null,
   "metadata": {},
   "outputs": [],
   "source": [
    "data['goalScored'] = 0\n",
    "data.loc[data.Event == 'Goal', 'goalScored'] = 1\n",
    "data['shotAttempted'] = 0\n",
    "data.loc[data.Event.isin(['Goal', 'Shot']), 'shotAttempted'] = 1\n",
    "data.head()"
   ]
  },
  {
   "cell_type": "code",
   "execution_count": null,
   "metadata": {},
   "outputs": [],
   "source": []
  },
  {
   "cell_type": "code",
   "execution_count": null,
   "metadata": {},
   "outputs": [],
   "source": []
  },
  {
   "cell_type": "code",
   "execution_count": null,
   "metadata": {},
   "outputs": [],
   "source": []
  },
  {
   "cell_type": "code",
   "execution_count": null,
   "metadata": {},
   "outputs": [],
   "source": []
  },
  {
   "cell_type": "code",
   "execution_count": null,
   "metadata": {},
   "outputs": [],
   "source": []
  },
  {
   "cell_type": "code",
   "execution_count": null,
   "metadata": {},
   "outputs": [],
   "source": []
  },
  {
   "cell_type": "code",
   "execution_count": null,
   "metadata": {},
   "outputs": [],
   "source": []
  },
  {
   "cell_type": "code",
   "execution_count": null,
   "metadata": {},
   "outputs": [],
   "source": [
    "def calcAngleOnGoal(data):\n",
    "    goal = ([189, 39.5], [189, 42.5], [189, 45.5])\n",
    "    x = data['X Coordinate']\n",
    "    y = data['Y Coordinate']\n",
    "    if x > goal[0][0]:\n",
    "        return 0, 0, 0\n",
    "    def calcDistToPost(playerCoords, postCoords):\n",
    "        x = playerCoords[0] - postCoords[0]\n",
    "        y = playerCoords[1] - postCoords[1]\n",
    "        return np.sqrt(x**2 + y **2)\n",
    "    lowPost = calcDistToPost([x, y], goal[0])\n",
    "    highPost = calcDistToPost([x, y], goal[2])\n",
    "    distToPorts = (lowPost, highPost)\n",
    "    closePost = goal[0] if distToPorts[0] <= distToPorts[1] else goal[2]\n",
    "    farPost = goal[2] if distToPorts[0] <= distToPorts[1] else goal[0]\n",
    "    deltaX1 = np.abs(x - closePost[0])\n",
    "    deltaY1 = np.abs(y - closePost[1])\n",
    "    angleToClosePost = math.degrees(np.arctan(deltaY1/deltaX1)) if deltaX1 != 0 else 90\n",
    "    \n",
    "    deltaX2 = np.abs(x - farPost[0])\n",
    "    deltaY2 = np.abs(y - farPost[1])\n",
    "    angleToFarPost = math.degrees(np.arctan(deltaY2/deltaX2)) if deltaX2 != 0 else 90\n",
    "    goalAngle = angleToFarPost - angleToClosePost if (y < goal[0][1]) or (y > goal[2][1]) else angleToFarPost + angleToClosePost\n",
    "    return pd.Series([angleToClosePost, angleToFarPost, goalAngle])"
   ]
  },
  {
   "cell_type": "code",
   "execution_count": null,
   "metadata": {},
   "outputs": [],
   "source": [
    "data['angleToClosePost'] = -1\n",
    "data['angleToFarPost'] = -1\n",
    "data['overallGoalAngle'] = -1\n",
    "data['distToGoal'] = -1\n",
    "shotAngle = data[data.Event.isin(['Shot', 'Goal'])].apply(lambda x: calcAngleOnGoal(x), axis=1)\n",
    "shotAngle.head()"
   ]
  },
  {
   "cell_type": "code",
   "execution_count": null,
   "metadata": {},
   "outputs": [],
   "source": [
    "data.loc[data.Event.isin(['Shot', 'Goal']), 'angleToClosePost'] = shotAngle[0]\n",
    "data.loc[data.Event.isin(['Shot', 'Goal']), 'normAngleToClosePost'] = shotAngle[0] / shotAngle[0].mean()\n",
    "\n",
    "data.loc[data.Event.isin(['Shot', 'Goal']), 'angleToFarPost'] = shotAngle[1]\n",
    "data.loc[data.Event.isin(['Shot', 'Goal']), 'normAngleToFarPost'] = shotAngle[1] / shotAngle[1].mean()\n",
    "\n",
    "data.loc[data.Event.isin(['Shot', 'Goal']), 'overallGoalAngle'] = shotAngle[2]\n",
    "data.loc[data.Event.isin(['Shot', 'Goal']), 'normOverallGoalAngle'] = shotAngle[2] / shotAngle[2].mean()\n",
    "\n",
    "data.loc[data.Event.isin(['Shot', 'Goal']), 'distToGoal'] = np.sqrt((data.loc[\n",
    "    data.Event.isin(['Shot', 'Goal']), 'X Coordinate'] - 189)**2 + (data.loc[\n",
    "    data.Event.isin(['Shot', 'Goal']), 'Y Coordinate'] - 42.5)**2)\n",
    "data.loc[data.Event.isin(['Shot', 'Goal']), 'normDistToGoal'] = data.loc[data.Event.isin(['Shot', 'Goal']), 'distToGoal'] / data.loc[data.Event.isin(['Shot', 'Goal']), 'distToGoal'].mean()\n",
    "data.loc[data.Event.isin(['Shot', 'Goal'])].head()"
   ]
  },
  {
   "cell_type": "code",
   "execution_count": null,
   "metadata": {},
   "outputs": [],
   "source": [
    "def calcROC(thresholds, phatGoal, yactual, pRecall=False):\n",
    "    fpRates = []\n",
    "    precisions = []\n",
    "    tpRates = []\n",
    "    for threshold in thresholds:\n",
    "        yhat = []\n",
    "        for prediction in phatGoal:\n",
    "            y = 0 if prediction < threshold else 1\n",
    "            yhat.append(y)\n",
    "        fp = 0\n",
    "        tp = 0\n",
    "        fn = 0\n",
    "        tn = 0\n",
    "        for i in range(0, len(yactual)):\n",
    "            if yactual[i] == yhat[i]:\n",
    "                if yactual[i] == 1:\n",
    "                    tp += 1\n",
    "                else:\n",
    "                    tn += 1\n",
    "            elif yactual[i] != yhat[i]:\n",
    "                if yactual[i] == 1:\n",
    "                    fn += 1\n",
    "                else:\n",
    "                    fp += 1\n",
    "        fpRate = fp / (fp + tn)\n",
    "        tpRate = tp / (tp + fn)\n",
    "        prec = 0\n",
    "        if (fp != 0):\n",
    "            prec = tp / (tp + fp)\n",
    "        fpRates.append(fpRate)\n",
    "        tpRates.append(tpRate)\n",
    "        precisions.append(prec)\n",
    "    if pRecall:\n",
    "        return precisions, tpRates\n",
    "    else:\n",
    "        return fpRates, tpRates"
   ]
  },
  {
   "cell_type": "code",
   "execution_count": null,
   "metadata": {},
   "outputs": [],
   "source": [
    "shotRegr = data.loc[data.Event.isin(['Shot', 'Goal']), ['Period', 'newClock', 'Event', 'X Coordinate', 'Y Coordinate', \n",
    "                 'assistedShot', 'shotType', 'shotTarget', 'shotTraffic', 'oneShot', 'posTeamScore', \n",
    "                 'defTeamScore', 'x', 'y', 'angleToClosePost', 'angleToFarPost', \n",
    "                 'overallGoalAngle', 'distToGoal', 'normAngleToClosePost', 'normAngleToFarPost', \n",
    "                 'normOverallGoalAngle', 'normDistToGoal', 'goalScored']].copy()\n",
    "lb = LabelEncoder()\n",
    "shotRegr['shotType'] = lb.fit_transform(shotRegr['shotType'])\n",
    "shotRegr['shotTarget'] = lb.fit_transform(shotRegr['shotTarget'])\n",
    "shotRegr['oneShot'] = lb.fit_transform(shotRegr['oneShot'])\n",
    "shotRegr['assistedShot'] = lb.fit_transform(shotRegr['assistedShot'])\n",
    "shotRegr['shotTraffic'] = lb.fit_transform(shotRegr['shotTraffic'])\n",
    "#shotRegr['Event'] = lb.fit_transform(shotRegr['goalScored'])"
   ]
  },
  {
   "cell_type": "code",
   "execution_count": null,
   "metadata": {},
   "outputs": [],
   "source": [
    "def calcAUC(phat, yactual, plotROC=False):\n",
    "    thresholds = np.linspace(0, 1, 100)\n",
    "    fpRates, tpRates = calcROC(thresholds, phat, yactual)\n",
    "    if(plotROC):\n",
    "        plt.plot(thresholds, [1-x for x in fpRates], c='r', label='False Positive Rate')\n",
    "        plt.plot(thresholds, tpRates, label='True Positive Rate')\n",
    "        plt.xlabel('Thresholds')\n",
    "        plt.xlabel('Rate')\n",
    "        plt.legend()\n",
    "        plt.show()\n",
    "    return auc(fpRates, tpRates)\n",
    "def doCVShots(XInput, yInput, model, iters):\n",
    "    aucs = []\n",
    "    for i in range(0, iters):\n",
    "        modelToUse = model\n",
    "        Xtrain, Xval, ytrain, yval = train_test_split(XInput,\n",
    "                                                        yInput, test_size=0.2)\n",
    "        model.fit(Xtrain, ytrain)\n",
    "        phat = model.predict_proba(Xval)\n",
    "        aucVal = calcAUC(phat[:, 1], np.array(yval), False)\n",
    "        aucs.append(aucVal)\n",
    "    return aucs"
   ]
  },
  {
   "cell_type": "code",
   "execution_count": null,
   "metadata": {},
   "outputs": [],
   "source": [
    "Xtrain3, Xtest3, ytrain3, ytest3 = train_test_split(shotRegr[['Period',\n",
    "                 'shotType', 'oneShot', 'shotTraffic', 'posTeamScore', 'x', 'y',\n",
    "                 'defTeamScore', 'normAngleToClosePost', 'normAngleToFarPost', \n",
    "                 'normOverallGoalAngle', 'normDistToGoal']], shotRegr['goalScored'], test_size=0.2)"
   ]
  },
  {
   "cell_type": "code",
   "execution_count": null,
   "metadata": {},
   "outputs": [],
   "source": [
    "forest3 = RandomForestClassifier(random_state=2013, n_jobs=-1)\n",
    "cvAUCs = doCVShots(Xtrain3, ytrain3, forest3, 5)\n",
    "print(\"CV AUC:\", sum(cvAUCs) / len(cvAUCs))\n",
    "plt.barh(Xtrain3.columns, forest3.feature_importances_)\n",
    "plt.show()"
   ]
  },
  {
   "cell_type": "code",
   "execution_count": null,
   "metadata": {},
   "outputs": [],
   "source": [
    "for i in [10, 20, 50, 70, 100, 250, 500, 100]:\n",
    "    newForest = RandomForestClassifier(random_state=2013, n_estimators=i, n_jobs=-1)\n",
    "    cvAUCs = doCVShots(Xtrain3, ytrain3, newForest, 5)\n",
    "    print(\"Estimators:\", i, \"CV AUC:\", sum(cvAUCs) / len(cvAUCs))"
   ]
  },
  {
   "cell_type": "code",
   "execution_count": null,
   "metadata": {},
   "outputs": [],
   "source": [
    "for i in [None, 5, 10, 15, 20, 30]:\n",
    "    newForest = RandomForestClassifier(random_state=2013, n_estimators=500 , max_depth=i, n_jobs=-1)\n",
    "    cvAUCs = doCVShots(Xtrain3, ytrain3, newForest, 5)\n",
    "    print(\"Max Depth:\", i, \"CV AUC:\", sum(cvAUCs) / len(cvAUCs))"
   ]
  },
  {
   "cell_type": "code",
   "execution_count": null,
   "metadata": {},
   "outputs": [],
   "source": [
    "for i in ['gini', 'entropy']:\n",
    "    newForest = RandomForestClassifier(random_state=2013, n_estimators=500 , max_depth=5, criterion=i, n_jobs=-1)\n",
    "    cvAUCs = doCVShots(Xtrain3, ytrain3, newForest, 5)\n",
    "    print(\"Criterion:\", i, \"CV AUC:\", sum(cvAUCs) / len(cvAUCs))"
   ]
  },
  {
   "cell_type": "code",
   "execution_count": null,
   "metadata": {},
   "outputs": [],
   "source": [
    "for i in ['auto', 'sqrt', 'log2']:\n",
    "    newForest = RandomForestClassifier(random_state=2013, n_estimators=500 , max_depth=5, criterion='entropy', \n",
    "                                       max_features=i, n_jobs=-1)\n",
    "    cvAUCs = doCVShots(Xtrain3, ytrain3, newForest, 5)\n",
    "    print(\"Max Features:\", i, \"CV AUC:\", sum(cvAUCs) / len(cvAUCs))"
   ]
  },
  {
   "cell_type": "code",
   "execution_count": null,
   "metadata": {},
   "outputs": [],
   "source": [
    "for i in [2, 3, 4, 7, 10]:\n",
    "    newForest = RandomForestClassifier(random_state=2013, n_estimators=500 , max_depth=5, criterion='entropy', \n",
    "                                       max_features='log2', min_samples_split=i, n_jobs=-1)\n",
    "    cvAUCs = doCVShots(Xtrain3, ytrain3, newForest, 5)\n",
    "    print(\"Min Samples Split:\", i, \"CV AUC:\", sum(cvAUCs) / len(cvAUCs))"
   ]
  },
  {
   "cell_type": "code",
   "execution_count": null,
   "metadata": {},
   "outputs": [],
   "source": [
    "finalExpectedGoalModel = RandomForestClassifier(random_state=2013, n_estimators=70 , max_depth=5, criterion='gini', \n",
    "                                       max_features='log2', min_samples_split=3, n_jobs=-1)\n",
    "finalExpectedGoalModel.fit(Xtrain3, ytrain3)\n",
    "phat3 = finalExpectedGoalModel.predict_proba(Xtest3)\n",
    "aucVal = calcAUC(phat3[:, 1], np.array(ytest3), True)\n",
    "thresholds = np.linspace(0, 1, 100)\n",
    "precisions, tpRates = calcROC(thresholds, phat3[:,1], np.array(ytest3), True)\n",
    "gMeans = np.sqrt(np.array(tpRates) * (1-np.array(fpRates)))\n",
    "bestThreshLoc = np.where(gMeans == gMeans.max())[0][0]\n",
    "print(\"Final AUC:\", aucVal, 'Best Threshold:', thresholds[bestThreshLoc])"
   ]
  },
  {
   "cell_type": "code",
   "execution_count": null,
   "metadata": {},
   "outputs": [],
   "source": []
  },
  {
   "cell_type": "code",
   "execution_count": null,
   "metadata": {},
   "outputs": [],
   "source": []
  },
  {
   "cell_type": "code",
   "execution_count": null,
   "metadata": {},
   "outputs": [],
   "source": []
  },
  {
   "cell_type": "code",
   "execution_count": null,
   "metadata": {},
   "outputs": [],
   "source": []
  },
  {
   "cell_type": "code",
   "execution_count": null,
   "metadata": {},
   "outputs": [],
   "source": []
  },
  {
   "cell_type": "code",
   "execution_count": null,
   "metadata": {},
   "outputs": [],
   "source": []
  }
 ],
 "metadata": {
  "kernelspec": {
   "display_name": "Python 3",
   "language": "python",
   "name": "python3"
  },
  "language_info": {
   "codemirror_mode": {
    "name": "ipython",
    "version": 3
   },
   "file_extension": ".py",
   "mimetype": "text/x-python",
   "name": "python",
   "nbconvert_exporter": "python",
   "pygments_lexer": "ipython3",
   "version": "3.8.5"
  }
 },
 "nbformat": 4,
 "nbformat_minor": 4
}
